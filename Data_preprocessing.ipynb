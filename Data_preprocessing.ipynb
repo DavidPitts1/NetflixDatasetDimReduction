{
 "cells": [
  {
   "cell_type": "code",
   "execution_count": 7,
   "metadata": {},
   "outputs": [],
   "source": [
    "from collections import defaultdict\n",
    "from preprocess import create_initial_data\n",
    "import matplotlib.gridspec as gridspec\n",
    "import warnings\n",
    "from sklearn.manifold import LocallyLinearEmbedding\n",
    "import os\n",
    "import zipfile\n",
    "import io\n",
    "import pandas as pd\n",
    "from dateutil import parser\n",
    "import scipy.sparse\n",
    "import numpy as np\n",
    "import joblib\n",
    "from tqdm import tqdm\n",
    "\n",
    "# warnings.filterwarnings('ignore')\n",
    "MOVIE_GENRE_AMOUNT = 12279\n",
    "DIFF_GENRES=27\n",
    "POPULIARY_TH_MOVIES=5000\n",
    "import numpy as np\n",
    "import seaborn as sns\n",
    "import sklearn\n",
    "import pickle\n",
    "from IPython.display import display, HTML\n",
    "import scipy.sparse\n",
    "VOTING_THRESHOLD_USERS = 500\n",
    "AMOUNT_MOVIES = 17770\n",
    "AMOUNT_USERS=480189\n",
    "sns.set()\n",
    "FITLERED_USER_500 = 54238\n",
    "\n",
    "import torch\n",
    "import torch.nn as nn\n",
    "import torch.optim as optim\n",
    "import matplotlib.pyplot as plt\n",
    "import torch.nn.functional as F\n",
    "from pandas import read_pickle\n",
    "import pandas as pd\n",
    "import numpy as np\n",
    "from torch.utils.data import DataLoader\n",
    "import seaborn as sns\n",
    "import torchviz\n",
    "import pickle\n",
    "from sklearn.preprocessing import scale\n",
    "import hiddenlayer as hl\n",
    "import matplotlib.pyplot as plt\n",
    "from sklearn import datasets\n",
    "import pandas as pd\n",
    "import matplotlib as mpl\n",
    "import plotly.express as px\n",
    "\n",
    "plt.rcParams['figure.figsize'] = [23, 13]\n",
    "plt.rcParams['figure.dpi'] = 100 # from mpl_toolkits.mplot3d import Axes3D\n",
    "mpl.rcParams['xtick.major.pad'] = 8\n",
    "mpl.rcParams['ytick.major.pad'] = 8\n",
    "\n",
    "from matplotlib import ticker\n",
    "formatter = ticker.ScalarFormatter(useMathText=True)\n",
    "formatter.set_scientific(True)\n",
    "formatter.set_powerlimits((-1,1))\n",
    "\n",
    "def save_pickle(name,obj):\n",
    "    with open(name+'.pickle', 'wb') as handle:\n",
    "        pickle.dump(obj, handle, protocol=pickle.HIGHEST_PROTOCOL)\n",
    "\n",
    "def get_genres_of_movies():\n",
    "\t\"\"\"\n",
    "\tThis function reads the file named 'netflix_genres.csv' which has a mapping between movie id and its genre.\n",
    "\tIt prints all unique genres and return a dataframe which is a one-hot encoding - the dataframe contains all\n",
    "\tgenres as columns, and 1 if this movie is from this genre, and 0 otherwise (because a movie usually corresponds\n",
    "\tto more than one genre)\n",
    "\t:return:\n",
    "\t\"\"\"\n",
    "\tdf_of_genres = pd.read_csv('netflix_genres.csv')\n",
    "\tall_genres = set()\n",
    "\tfor movie_genre in df_of_genres['genres'].to_list():\n",
    "\t\tall_genres.update(movie_genre.split('|'))\n",
    "\tprint(\"all genres are:\")\n",
    "\tprint(all_genres)\n",
    "\tprint(\"Number of genres is: \")\n",
    "\tprint(len(all_genres))\n",
    "\n",
    "\tdf_of_movies_and_all_genres = pd.DataFrame(columns=all_genres)\n",
    "\tfor idx, row in df_of_genres.iterrows():\n",
    "\t\tmovie_id = row[0]\n",
    "\t\tmovie_genres = row[1].split('|')\n",
    "\t\tfor movie_genre in movie_genres:\n",
    "\t\t\tdf_of_movies_and_all_genres.loc[movie_id, movie_genre] = 1\n",
    "\tdf_of_movies_and_all_genres.fillna(0, inplace=True)\n",
    "\treturn df_of_movies_and_all_genres\n",
    "\n",
    "\n",
    "def np_display(X):\n",
    "    display(pd.DataFrame(X))"
   ]
  },
  {
   "cell_type": "code",
   "execution_count": 63,
   "metadata": {
    "collapsed": false,
    "jupyter": {
     "outputs_hidden": false
    },
    "pycharm": {
     "name": "#%%\n"
    }
   },
   "outputs": [
    {
     "name": "stdout",
     "output_type": "stream",
     "text": [
      "Started loading data from disk\n",
      "Finished loading data from disk\n"
     ]
    }
   ],
   "source": [
    "mat_of_movies_and_users,movie_genres_mat= genres=create_initial_data(True,True)"
   ]
  },
  {
   "cell_type": "code",
   "execution_count": null,
   "metadata": {
    "collapsed": false,
    "jupyter": {
     "outputs_hidden": false
    },
    "pycharm": {
     "name": "#%%\n"
    }
   },
   "outputs": [],
   "source": [
    "df_of_movies_info = pd.read_csv('movie_titles.csv', error_bad_lines=False, encoding='latin-1', index_col=0,\n",
    "                                names=['year_of_release', 'title'])\n",
    "\n",
    "df_of_movies_genres = get_genres_of_movies()\n",
    "df_of_movies_info = df_of_movies_info.join(df_of_movies_genres)\n",
    "df_of_movies_info.fillna(0, inplace=True)\n",
    "print(\"started\")\n",
    "transope_mat_user = scipy.sparse.load_npz('transope_mat_user_comp' + '.npz').tolil()\n",
    "print(\"ended\")\n"
   ]
  },
  {
   "cell_type": "code",
   "execution_count": null,
   "metadata": {
    "collapsed": false,
    "jupyter": {
     "outputs_hidden": false
    },
    "pycharm": {
     "name": "#%%\n"
    }
   },
   "outputs": [],
   "source": [
    "#Amount of times each user rated a movie.\n",
    "votes_users=np.zeros(AMOUNT_USERS)\n",
    "for i in range(0,AMOUNT_USERS):\n",
    "    votes_users[i]=transope_mat_user.getrow(i).count_nonzero()\n",
    "save_pickle('votes_users',votes_users)\n"
   ]
  },
  {
   "cell_type": "code",
   "execution_count": 3,
   "metadata": {
    "collapsed": false,
    "jupyter": {
     "outputs_hidden": false
    },
    "pycharm": {
     "name": "#%%\n"
    }
   },
   "outputs": [
    {
     "name": "stdout",
     "output_type": "stream",
     "text": [
      "reached!\n"
     ]
    }
   ],
   "source": [
    "#Dropping users below threshold\n",
    "votes_users=pd.read_pickle(\"votes_users.pickle\")\n",
    "votes_users_pd=pd.DataFrame(votes_users)\n",
    "print(\"reached!\")\n",
    "votes_users_th=votes_users_pd[votes_users_pd>VOTING_THRESHOLD_USERS]\n",
    "(votes_users_th.dropna(inplace=True))\n",
    "\n"
   ]
  },
  {
   "cell_type": "code",
   "execution_count": null,
   "metadata": {
    "collapsed": false,
    "jupyter": {
     "outputs_hidden": false
    },
    "pycharm": {
     "name": "#%%\n"
    }
   },
   "outputs": [],
   "source": [
    "#Filtering only the relevant users from the original sparse matrix.\n",
    "above_th_users=(votes_users_th.index)\n",
    "np_display(above_th_users)\n",
    "display(votes_users_th)\n",
    "user_move_pst_th=scipy.sparse.lil_matrix((FITLERED_USER_500,AMOUNT_MOVIES))\n",
    "for i,j in zip(above_th_users,np.arange(FITLERED_USER_500)):\n",
    "    user_move_pst_th[j,:]=transope_mat_user.getrow(i)\n",
    "    if j%1000==0:\n",
    "        print(j)\n",
    "        \n",
    "scipy.sparse.save_npz('post_threshhold_users',user_move_pst_th.tocsr(),compressed=True)"
   ]
  },
  {
   "cell_type": "code",
   "execution_count": 4,
   "metadata": {
    "collapsed": false,
    "jupyter": {
     "outputs_hidden": false
    },
    "pycharm": {
     "name": "#%%\n"
    }
   },
   "outputs": [],
   "source": [
    "users_filtered=scipy.sparse.load_npz('post_threshhold_users.npz')\n"
   ]
  },
  {
   "cell_type": "code",
   "execution_count": 5,
   "metadata": {
    "collapsed": false,
    "jupyter": {
     "outputs_hidden": false
    },
    "pycharm": {
     "name": "#%%\n"
    }
   },
   "outputs": [],
   "source": [
    "genres=pd.read_pickle('genres_orthgonal.pickle')\n",
    "df_of_movies_info = pd.read_csv('movie_titles.csv', error_bad_lines=False, encoding='latin-1', index_col=0,\n",
    "\t\t\t\t\t\t\t\t\t\t\t\t\t\t\tnames=['year_of_release', 'title'])\n",
    "movies = df_of_movies_info.join(genres)\n",
    "movies.fillna(0, inplace=True)"
   ]
  },
  {
   "cell_type": "code",
   "execution_count": null,
   "metadata": {
    "collapsed": false,
    "jupyter": {
     "outputs_hidden": false
    },
    "pycharm": {
     "name": "#%%\n"
    }
   },
   "outputs": [],
   "source": [
    "#Create the feature vector for each user.\n",
    "current_data=scipy.sparse.lil_matrix((FITLERED_USER_500,58))\n",
    "c=0\n",
    "for i in range(FITLERED_USER_500):\n",
    "    c+=1\n",
    "    curr_row=users_filtered.getrow(i)\n",
    "    indexs=curr_row.nonzero()[1]\n",
    "    ratings=curr_row.data\n",
    "    user_ortgh_vector=np.zeros(27)\n",
    "    per_genre=np.zeros(27)\n",
    "    for movie_id,rating in zip(indexs,ratings):\n",
    "        try:\n",
    "            curr_orthg=genres.loc[movie_id]\n",
    "        except:\n",
    "            continue\n",
    "        user_ortgh_vector+=curr_orthg*rating\n",
    "        per_genre+=curr_orthg\n",
    "        \n",
    "    dist_user_ratings=user_ortgh_vector/per_genre-2.5\n",
    "    user_popuarity_dist=(user_ortgh_vector/user_ortgh_vector.sum())*100 # Scaling the feature.\n",
    "    user_profile=np.zeros(58)\n",
    "    user_profile[0]=dist_user_ratings.mean()\n",
    "    user_profile[1]=dist_user_ratings.std()\n",
    "    user_profile[2]=user_popuarity_dist.mean()\n",
    "    user_profile[3]=user_popuarity_dist.std()\n",
    "    user_profile[4:]=np.hstack([user_popuarity_dist,dist_user_ratings])\n",
    "    \n",
    "    user_profile=np.nan_to_num(user_profile)\n",
    "    current_data[i,:]=user_profile\n",
    "    if c%100==0:\n",
    "        print(c)\n",
    "        \n",
    "save_pickle('user_feature_v',current_data)"
   ]
  },
  {
   "cell_type": "code",
   "execution_count": null,
   "metadata": {
    "collapsed": false,
    "jupyter": {
     "outputs_hidden": false
    },
    "pycharm": {
     "name": "#%%\n"
    }
   },
   "outputs": [],
   "source": []
  },
  {
   "cell_type": "code",
   "execution_count": 2,
   "metadata": {
    "collapsed": false,
    "jupyter": {
     "outputs_hidden": false
    },
    "pycharm": {
     "is_executing": true,
     "name": "#%%\n"
    }
   },
   "outputs": [
    {
     "name": "stdout",
     "output_type": "stream",
     "text": [
      "Linear(in_features=15, out_features=10, bias=True)\n"
     ]
    }
   ],
   "source": [
    "#Transfer the data using the denoisinsg autoencdoer.\n",
    "import torch\n",
    "import denoising_ae\n",
    "users, test_loader, train_loader = denoising_ae.data_prep()\n",
    "net = denoising_ae.Denoising_AE()\n",
    "#\n",
    "print(net.enc15)"
   ]
  },
  {
   "cell_type": "code",
   "execution_count": null,
   "metadata": {
    "collapsed": false,
    "jupyter": {
     "outputs_hidden": false
    },
    "pycharm": {
     "name": "#%%\n"
    }
   },
   "outputs": [],
   "source": [
    "d=torch.load(\"weights_ae/weights_curr30\")\n",
    "a=net.load_state_dict(d)\n",
    "dd=np.zeros((FITLERED_USER_500,10))\n",
    "\n",
    "dataloader_users=DataLoader(np.array(users).astype(np.float32))\n",
    "net.eval()\n",
    "for data,i in zip(dataloader_users,range(FITLERED_USER_500)):\n",
    "    dd[i]=((net.encoder(data)).detach().numpy())\n",
    "    \n",
    "#     a=(dd[i])\n",
    "#     b=(net.encoder(torch.Tensor(np.array(users.iloc[i]).astype(np.float32))).detach().numpy())\n",
    "#     print(a==b)\n",
    "    \n",
    "#     if i==1000 :\n",
    "#         break\n",
    "        \n",
    "\n",
    "# all_users_dim3=pd.DataFrame(dd[:,:3],columns=['x','y','z'])\n",
    "# save_pickle(\"final_dataset_dim3\",all_users_dim3)\n",
    "\n",
    "\n",
    "\n"
   ]
  },
  {
   "cell_type": "code",
   "execution_count": 27,
   "metadata": {},
   "outputs": [
    {
     "data": {
      "text/html": [
       "<div>\n",
       "<style scoped>\n",
       "    .dataframe tbody tr th:only-of-type {\n",
       "        vertical-align: middle;\n",
       "    }\n",
       "\n",
       "    .dataframe tbody tr th {\n",
       "        vertical-align: top;\n",
       "    }\n",
       "\n",
       "    .dataframe thead th {\n",
       "        text-align: right;\n",
       "    }\n",
       "</style>\n",
       "<table border=\"1\" class=\"dataframe\">\n",
       "  <thead>\n",
       "    <tr style=\"text-align: right;\">\n",
       "      <th></th>\n",
       "      <th>x</th>\n",
       "      <th>y</th>\n",
       "      <th>z</th>\n",
       "    </tr>\n",
       "  </thead>\n",
       "  <tbody>\n",
       "    <tr>\n",
       "      <th>count</th>\n",
       "      <td>5.423800e+04</td>\n",
       "      <td>5.423800e+04</td>\n",
       "      <td>5.423800e+04</td>\n",
       "    </tr>\n",
       "    <tr>\n",
       "      <th>mean</th>\n",
       "      <td>5.833790e+31</td>\n",
       "      <td>5.773754e+31</td>\n",
       "      <td>5.352835e+31</td>\n",
       "    </tr>\n",
       "    <tr>\n",
       "      <th>std</th>\n",
       "      <td>7.364536e+30</td>\n",
       "      <td>7.288747e+30</td>\n",
       "      <td>6.757382e+30</td>\n",
       "    </tr>\n",
       "    <tr>\n",
       "      <th>min</th>\n",
       "      <td>1.136542e+30</td>\n",
       "      <td>1.124846e+30</td>\n",
       "      <td>1.042842e+30</td>\n",
       "    </tr>\n",
       "    <tr>\n",
       "      <th>25%</th>\n",
       "      <td>5.537920e+31</td>\n",
       "      <td>5.480929e+31</td>\n",
       "      <td>5.081358e+31</td>\n",
       "    </tr>\n",
       "    <tr>\n",
       "      <th>50%</th>\n",
       "      <td>5.971018e+31</td>\n",
       "      <td>5.909570e+31</td>\n",
       "      <td>5.478750e+31</td>\n",
       "    </tr>\n",
       "    <tr>\n",
       "      <th>75%</th>\n",
       "      <td>6.294323e+31</td>\n",
       "      <td>6.229547e+31</td>\n",
       "      <td>5.775400e+31</td>\n",
       "    </tr>\n",
       "    <tr>\n",
       "      <th>max</th>\n",
       "      <td>8.225668e+31</td>\n",
       "      <td>8.141017e+31</td>\n",
       "      <td>7.547520e+31</td>\n",
       "    </tr>\n",
       "  </tbody>\n",
       "</table>\n",
       "</div>"
      ],
      "text/plain": [
       "                  x             y             z\n",
       "count  5.423800e+04  5.423800e+04  5.423800e+04\n",
       "mean   5.833790e+31  5.773754e+31  5.352835e+31\n",
       "std    7.364536e+30  7.288747e+30  6.757382e+30\n",
       "min    1.136542e+30  1.124846e+30  1.042842e+30\n",
       "25%    5.537920e+31  5.480929e+31  5.081358e+31\n",
       "50%    5.971018e+31  5.909570e+31  5.478750e+31\n",
       "75%    6.294323e+31  6.229547e+31  5.775400e+31\n",
       "max    8.225668e+31  8.141017e+31  7.547520e+31"
      ]
     },
     "metadata": {},
     "output_type": "display_data"
    }
   ],
   "source": []
  }
 ],
 "metadata": {
  "kernelspec": {
   "display_name": "Python 3",
   "language": "python",
   "name": "python3"
  },
  "language_info": {
   "codemirror_mode": {
    "name": "ipython",
    "version": 3
   },
   "file_extension": ".py",
   "mimetype": "text/x-python",
   "name": "python",
   "nbconvert_exporter": "python",
   "pygments_lexer": "ipython3",
   "version": "3.8.3"
  }
 },
 "nbformat": 4,
 "nbformat_minor": 4
}
